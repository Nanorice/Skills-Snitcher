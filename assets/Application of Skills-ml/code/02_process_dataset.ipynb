{
 "cells": [
  {
   "cell_type": "code",
   "execution_count": 21,
   "metadata": {
    "ExecuteTime": {
     "end_time": "2020-08-27T15:42:46.893418Z",
     "start_time": "2020-08-27T15:42:46.884632Z"
    }
   },
   "outputs": [],
   "source": [
    "import pickle\n",
    "import pandas as pd\n",
    "import logging\n",
    "\n",
    "import seaborn as sns\n",
    "import matplotlib.pyplot as plt\n",
    "%matplotlib inline\n",
    "sns.set(style=\"whitegrid\", font_scale=2)\n",
    "\n",
    "from typing import Dict, Text, Any, Generator\n",
    "import copy\n",
    "\n",
    "## skills-ml\n",
    "from skills_ml.job_postings.raw.virginia import VirginiaTransformer\n",
    "from skills_ml.job_postings.filtering import JobPostingFilterer\n",
    "\n",
    "### plot soc major group distribution\n",
    "from skills_ml.ontologies.onet import majorgroupname\n",
    "from collections import Counter\n",
    "\n",
    "from IPython.display import Audio, display\n",
    "\n",
    "from skills_ml.algorithms.skill_extractors import SkillEndingPatternExtractor, AbilityEndingPatternExtractor, ExactMatchSkillExtractor, SocScopedExactMatchSkillExtractor, FuzzyMatchSkillExtractor, SectionExtractSkillExtractor"
   ]
  },
  {
   "cell_type": "code",
   "execution_count": 17,
   "metadata": {
    "ExecuteTime": {
     "end_time": "2020-08-27T15:40:52.456057Z",
     "start_time": "2020-08-27T15:40:52.453544Z"
    }
   },
   "outputs": [],
   "source": [
    "logging.basicConfig(format='%(asctime)s : %(levelname)s : %(message)s', level=logging.INFO)"
   ]
  },
  {
   "cell_type": "code",
   "execution_count": 2,
   "metadata": {
    "ExecuteTime": {
     "end_time": "2020-08-27T15:30:43.834735Z",
     "start_time": "2020-08-27T15:30:43.831869Z"
    }
   },
   "outputs": [],
   "source": [
    "def allDone():\n",
    "    display(Audio(url='https://sound.peal.io/ps/audios/000/000/537/original/woo_vu_luvub_dub_dub.wav', autoplay=True))"
   ]
  },
  {
   "cell_type": "markdown",
   "metadata": {},
   "source": [
    "# Load data"
   ]
  },
  {
   "cell_type": "code",
   "execution_count": 3,
   "metadata": {
    "ExecuteTime": {
     "end_time": "2020-08-27T15:30:44.017985Z",
     "start_time": "2020-08-27T15:30:43.987362Z"
    }
   },
   "outputs": [],
   "source": [
    "fname = '../data/financial_jobs_with_soc.pickle'\n",
    "with open(fname, \"rb\") as f:\n",
    "    dict_ = pickle.load(f)\n",
    "\n",
    "finance_jobs = dict_\n",
    "del fname, dict_"
   ]
  },
  {
   "cell_type": "code",
   "execution_count": 4,
   "metadata": {
    "ExecuteTime": {
     "end_time": "2020-08-27T15:30:44.496212Z",
     "start_time": "2020-08-27T15:30:44.474237Z"
    }
   },
   "outputs": [],
   "source": [
    "fname = '../data/telecom_jobs_with_soc.pickle'\n",
    "with open(fname, \"rb\") as f:\n",
    "    dict_ = pickle.load(f)\n",
    "\n",
    "tele_jobs = dict_\n",
    "del fname, dict_"
   ]
  },
  {
   "cell_type": "markdown",
   "metadata": {},
   "source": [
    "# Parse into job posting schema"
   ]
  },
  {
   "cell_type": "code",
   "execution_count": 5,
   "metadata": {
    "ExecuteTime": {
     "end_time": "2020-08-27T15:30:45.582417Z",
     "start_time": "2020-08-27T15:30:45.577717Z"
    }
   },
   "outputs": [],
   "source": [
    "fname = '../data/50_sample.json'\n",
    "f = open(fname, 'r')\n",
    "schema = json.loads(f.read().split('\\n')[0])\n"
   ]
  },
  {
   "cell_type": "code",
   "execution_count": 6,
   "metadata": {
    "ExecuteTime": {
     "end_time": "2020-08-27T15:30:47.889853Z",
     "start_time": "2020-08-27T15:30:47.884208Z"
    },
    "code_folding": []
   },
   "outputs": [],
   "source": [
    "def convert2schema(df, schema=schema, save = False, saveName = 'file'):\n",
    "    df_json = []\n",
    "    for i in range(df.shape[0]):\n",
    "        jd = copy.deepcopy(schema)\n",
    "        jd['hiringOrganization']['location'] = df['location'][i]\n",
    "        jd['url'] = df['ref'][i]\n",
    "        jd['title'] = df['job_title'][i]\n",
    "        jd['jobDescription'] = df['full_info'][i].split('\\n')\n",
    "        jd['normalizedTitle']['onetCode'] = df['soc'][i]\n",
    "        df_json.append(jd)\n",
    "    if save == True:\n",
    "        with open(saveName, \"w\") as write_file:\n",
    "            for jd in df_json:\n",
    "                json.dump(jd, write_file)\n",
    "                write_file.write('\\n')\n",
    "    return df_json"
   ]
  },
  {
   "cell_type": "code",
   "execution_count": 7,
   "metadata": {
    "ExecuteTime": {
     "end_time": "2020-08-27T15:05:21.778172Z",
     "start_time": "2020-08-27T15:05:20.324181Z"
    }
   },
   "outputs": [],
   "source": [
    "# finance_jobs_json = convert2schema(finance_jobs, save = True, saveName='../data/finance_jobs.json')\n",
    "# tele_jobs_json = convert2schema(tele_jobs, save = True, saveName='../data/tele_jobs.json')"
   ]
  },
  {
   "cell_type": "code",
   "execution_count": 7,
   "metadata": {
    "ExecuteTime": {
     "end_time": "2020-08-27T15:30:56.766271Z",
     "start_time": "2020-08-27T15:30:56.760247Z"
    },
    "code_folding": []
   },
   "outputs": [],
   "source": [
    "# parse dataset into generator format\n",
    "JobPostingType = Dict[Text, Any]\n",
    "JobPostingGeneratorType = Generator[JobPostingType, None, None]\n",
    "MetadataType = Dict[Text, Dict[Text, Any]]\n",
    "\n",
    "class indeedParser(object):\n",
    "    def __init__(self, fname):\n",
    "        f = open(fname, 'r')\n",
    "        self.lines = f.read().split('\\n')\n",
    "        self.transformer = VirginiaTransformer(partner_id = 'VA')\n",
    "        \n",
    "    def __iter__(self) -> JobPostingGeneratorType:\n",
    "        for line in self.lines:\n",
    "            if line:\n",
    "                yield self.transformer._transform(json.loads(line))\n",
    "    \n",
    "    @property\n",
    "    def metadata(self) -> MetadataType:\n",
    "        return {'job postings': {\n",
    "            'downloaded_from': 'jobs.monster.com',\n",
    "            'month': '2020-08',\n",
    "            'purpose': 'monster_analysis'\n",
    "        }}"
   ]
  },
  {
   "cell_type": "code",
   "execution_count": 9,
   "metadata": {
    "ExecuteTime": {
     "end_time": "2020-08-27T15:05:22.814250Z",
     "start_time": "2020-08-27T15:05:22.764578Z"
    }
   },
   "outputs": [],
   "source": [
    "# fin_post = indeedParser('../data/finance_jobs.json')\n",
    "# tele_post = indeedParser('../data/tele_jobs.json')"
   ]
  },
  {
   "cell_type": "markdown",
   "metadata": {},
   "source": [
    "# Skills extraction"
   ]
  },
  {
   "cell_type": "code",
   "execution_count": 8,
   "metadata": {
    "ExecuteTime": {
     "end_time": "2020-08-27T15:32:10.351949Z",
     "start_time": "2020-08-27T15:31:09.008228Z"
    }
   },
   "outputs": [],
   "source": [
    "from skills_ml.ontologies.onet import Onet\n",
    "onet = Onet()"
   ]
  },
  {
   "cell_type": "code",
   "execution_count": 9,
   "metadata": {
    "ExecuteTime": {
     "end_time": "2020-08-27T15:32:11.512294Z",
     "start_time": "2020-08-27T15:32:11.463857Z"
    }
   },
   "outputs": [],
   "source": [
    "finance_jobs = finance_jobs.drop_duplicates()\n",
    "tele_jobs = tele_jobs.drop_duplicates()"
   ]
  },
  {
   "cell_type": "code",
   "execution_count": 13,
   "metadata": {
    "ExecuteTime": {
     "end_time": "2020-08-27T15:32:35.354164Z",
     "start_time": "2020-08-27T15:32:35.350043Z"
    }
   },
   "outputs": [
    {
     "name": "stdout",
     "output_type": "stream",
     "text": [
      "(3967, 7)\n"
     ]
    }
   ],
   "source": [
    "df = pd.concat([finance_jobs, tele_jobs], ignore_index=True)\n",
    "print(df.shape)"
   ]
  },
  {
   "cell_type": "code",
   "execution_count": 11,
   "metadata": {
    "ExecuteTime": {
     "end_time": "2020-08-27T15:32:13.874009Z",
     "start_time": "2020-08-27T15:32:13.829160Z"
    }
   },
   "outputs": [],
   "source": [
    "# job_postings = convert2schema(df, save = True, saveName='../data/stacked_jobs.json')\n",
    "job_post = indeedParser('../data/stacked_jobs.json')"
   ]
  },
  {
   "cell_type": "code",
   "execution_count": 15,
   "metadata": {
    "ExecuteTime": {
     "end_time": "2020-08-27T15:35:33.400041Z",
     "start_time": "2020-08-27T15:35:33.388019Z"
    }
   },
   "outputs": [
    {
     "data": {
      "text/html": [
       "<div>\n",
       "<style scoped>\n",
       "    .dataframe tbody tr th:only-of-type {\n",
       "        vertical-align: middle;\n",
       "    }\n",
       "\n",
       "    .dataframe tbody tr th {\n",
       "        vertical-align: top;\n",
       "    }\n",
       "\n",
       "    .dataframe thead th {\n",
       "        text-align: right;\n",
       "    }\n",
       "</style>\n",
       "<table border=\"1\" class=\"dataframe\">\n",
       "  <thead>\n",
       "    <tr style=\"text-align: right;\">\n",
       "      <th></th>\n",
       "      <th>location</th>\n",
       "      <th>company_name</th>\n",
       "      <th>job_title</th>\n",
       "      <th>summary</th>\n",
       "      <th>full_info</th>\n",
       "      <th>ref</th>\n",
       "      <th>soc</th>\n",
       "      <th>skills</th>\n",
       "    </tr>\n",
       "  </thead>\n",
       "  <tbody>\n",
       "    <tr>\n",
       "      <th>0</th>\n",
       "      <td>London</td>\n",
       "      <td>Sabre</td>\n",
       "      <td>Financial Analyst</td>\n",
       "      <td>Business savvy; proven track of experience in ...</td>\n",
       "      <td>Req ID: 51988\\nJob Family: Finance/Accounting\\...</td>\n",
       "      <td>https://www.indeed.com/rc/clk?jk=043e2d5c24c7e...</td>\n",
       "      <td>13-2051.00</td>\n",
       "      <td>None</td>\n",
       "    </tr>\n",
       "    <tr>\n",
       "      <th>1</th>\n",
       "      <td>London</td>\n",
       "      <td>Deutsche Bank</td>\n",
       "      <td>Anti-Financial Crime (AFC) Data Principle Chan...</td>\n",
       "      <td>A strong understanding of the regulatory envir...</td>\n",
       "      <td>Job Title: Anti-Financial Crime (AFC) Data Pri...</td>\n",
       "      <td>https://www.indeed.com/rc/clk?jk=518951095bcee...</td>\n",
       "      <td>13-2051.00</td>\n",
       "      <td>None</td>\n",
       "    </tr>\n",
       "    <tr>\n",
       "      <th>2</th>\n",
       "      <td>London E20 1JN</td>\n",
       "      <td>Financial Conduct Authority</td>\n",
       "      <td>Financial Analyst - 6 Months Fixed Term Contract</td>\n",
       "      <td>Delivering a financial management service to e...</td>\n",
       "      <td>Location\\n12 Endeavour Square, London, E20 1JN...</td>\n",
       "      <td>https://www.indeed.com/rc/clk?jk=cbeebbc036a0d...</td>\n",
       "      <td>13-2051.00</td>\n",
       "      <td>None</td>\n",
       "    </tr>\n",
       "    <tr>\n",
       "      <th>3</th>\n",
       "      <td>London</td>\n",
       "      <td>Cambridge Associates LLC</td>\n",
       "      <td>Investment Analyst - Private Investments Research</td>\n",
       "      <td>Interest in investing and financial markets; b...</td>\n",
       "      <td>Firm Overview\\n\\nWe are a leading global inves...</td>\n",
       "      <td>https://www.indeed.com/rc/clk?jk=007a13cee4960...</td>\n",
       "      <td>13-2051.00</td>\n",
       "      <td>None</td>\n",
       "    </tr>\n",
       "    <tr>\n",
       "      <th>4</th>\n",
       "      <td>London</td>\n",
       "      <td>EPAM Systems</td>\n",
       "      <td>Junior Business Analyst (Financial Services do...</td>\n",
       "      <td>Then you have an opportunity to work with the ...</td>\n",
       "      <td>Are you passionate about technology and its ap...</td>\n",
       "      <td>https://www.indeed.com/rc/clk?jk=dc01e2bfbade4...</td>\n",
       "      <td>13-2051.00</td>\n",
       "      <td>None</td>\n",
       "    </tr>\n",
       "  </tbody>\n",
       "</table>\n",
       "</div>"
      ],
      "text/plain": [
       "         location                 company_name  \\\n",
       "0          London                        Sabre   \n",
       "1          London                Deutsche Bank   \n",
       "2  London E20 1JN  Financial Conduct Authority   \n",
       "3          London     Cambridge Associates LLC   \n",
       "4          London                 EPAM Systems   \n",
       "\n",
       "                                           job_title  \\\n",
       "0                                  Financial Analyst   \n",
       "1  Anti-Financial Crime (AFC) Data Principle Chan...   \n",
       "2   Financial Analyst - 6 Months Fixed Term Contract   \n",
       "3  Investment Analyst - Private Investments Research   \n",
       "4  Junior Business Analyst (Financial Services do...   \n",
       "\n",
       "                                             summary  \\\n",
       "0  Business savvy; proven track of experience in ...   \n",
       "1  A strong understanding of the regulatory envir...   \n",
       "2  Delivering a financial management service to e...   \n",
       "3  Interest in investing and financial markets; b...   \n",
       "4  Then you have an opportunity to work with the ...   \n",
       "\n",
       "                                           full_info  \\\n",
       "0  Req ID: 51988\\nJob Family: Finance/Accounting\\...   \n",
       "1  Job Title: Anti-Financial Crime (AFC) Data Pri...   \n",
       "2  Location\\n12 Endeavour Square, London, E20 1JN...   \n",
       "3  Firm Overview\\n\\nWe are a leading global inves...   \n",
       "4  Are you passionate about technology and its ap...   \n",
       "\n",
       "                                                 ref         soc skills  \n",
       "0  https://www.indeed.com/rc/clk?jk=043e2d5c24c7e...  13-2051.00   None  \n",
       "1  https://www.indeed.com/rc/clk?jk=518951095bcee...  13-2051.00   None  \n",
       "2  https://www.indeed.com/rc/clk?jk=cbeebbc036a0d...  13-2051.00   None  \n",
       "3  https://www.indeed.com/rc/clk?jk=007a13cee4960...  13-2051.00   None  \n",
       "4  https://www.indeed.com/rc/clk?jk=dc01e2bfbade4...  13-2051.00   None  "
      ]
     },
     "execution_count": 15,
     "metadata": {},
     "output_type": "execute_result"
    }
   ],
   "source": [
    "# df['skill_match'] = None\n",
    "# df['ability_match'] = None\n",
    "# df['exact_match'] = None\n",
    "# df['soc_match'] = None\n",
    "# df['fuzzy_match'] = None\n",
    "# df['section_match'] = None\n",
    "# df['skills'] = None\n",
    "df.head()"
   ]
  },
  {
   "cell_type": "code",
   "execution_count": 24,
   "metadata": {
    "ExecuteTime": {
     "end_time": "2020-08-27T15:43:06.554114Z",
     "start_time": "2020-08-27T15:43:06.543796Z"
    },
    "code_folding": []
   },
   "outputs": [],
   "source": [
    "def extract_skills_ensemble(df, skill_end=False, ability_end=False, exact=True, soc=True, fuzzy=True, section=False):\n",
    "    \n",
    "    df['skills'] = None\n",
    "    \n",
    "    # initialise skill extractors\n",
    "    skill_extractor_skill = SkillEndingPatternExtractor(only_bulleted_lines=False)\n",
    "    skill_extractor_ability = AbilityEndingPatternExtractor(only_bulleted_lines=False)\n",
    "    skill_extractor_exact = ExactMatchSkillExtractor(onet.competency_framework)\n",
    "    skill_extractor_soc = SocScopedExactMatchSkillExtractor(onet)\n",
    "    skill_extractor_fuzzy = FuzzyMatchSkillExtractor(onet.competency_framework)\n",
    "    skill_extractor_section = SectionExtractSkillExtractor()\n",
    "    \n",
    "    # iterate through dataset\n",
    "    counter = 0\n",
    "    job_iter = iter(job_post)\n",
    "    while counter < df.shape[0]:\n",
    "        \n",
    "        if (counter%100==0):\n",
    "            logging.info('extracting {0} job description skill sets'.format(counter))\n",
    "    \n",
    "        job_posting = next(job_iter)\n",
    "\n",
    "        skill_dict, ability_dict, exact_dict, soc_dict, fuzzy_dict, section_dict = {}, {}, {}, {}, {}, {}\n",
    "        skills = []\n",
    "\n",
    "        # skill ending\n",
    "        if skill_end:\n",
    "            for candidate_skill in skill_extractor_skill.candidate_skills(job_posting):\n",
    "                skills.append(candidate_skill.skill_name)\n",
    "\n",
    "        # ability ending\n",
    "        if ability_end:\n",
    "            for candidate_skill in skill_extractor_ability.candidate_skills(job_posting):\n",
    "                skills.append(candidate_skill.skill_name)\n",
    "\n",
    "        # exact match\n",
    "        if exact:\n",
    "            for candidate_skill in skill_extractor_exact.candidate_skills(job_posting):\n",
    "                skills.append(candidate_skill.skill_name)\n",
    "\n",
    "        # soc match\n",
    "        if soc:\n",
    "            for candidate_skill in skill_extractor_soc.candidate_skills(job_posting):\n",
    "                skills.append(candidate_skill.skill_name)\n",
    "\n",
    "        # fuzzy match\n",
    "        if fuzzy:\n",
    "            try:\n",
    "                for candidate_skill in skill_extractor_fuzzy.candidate_skills(job_posting):\n",
    "                    skills.append(candidate_skill.skill_name)\n",
    "            except:\n",
    "                pass\n",
    "\n",
    "        # section match\n",
    "        if section:\n",
    "            try:\n",
    "                for candidate_skill in skill_extractor_section.candidate_skills(job_posting):\n",
    "                    skills.append(candidate_skill.skill_name)\n",
    "            except:\n",
    "                pass\n",
    "\n",
    "        df['skills'][counter] = list(set(skills))\n",
    "        counter += 1\n",
    "        \n",
    "    return"
   ]
  },
  {
   "cell_type": "code",
   "execution_count": 25,
   "metadata": {
    "ExecuteTime": {
     "end_time": "2020-08-27T16:17:15.140834Z",
     "start_time": "2020-08-27T15:43:07.807162Z"
    }
   },
   "outputs": [],
   "source": [
    "extract_skills_ensemble(df)"
   ]
  },
  {
   "cell_type": "code",
   "execution_count": 28,
   "metadata": {
    "ExecuteTime": {
     "end_time": "2020-08-27T16:23:23.423315Z",
     "start_time": "2020-08-27T16:23:23.420540Z"
    }
   },
   "outputs": [],
   "source": [
    "df_skills = df.copy()"
   ]
  },
  {
   "cell_type": "code",
   "execution_count": 31,
   "metadata": {
    "ExecuteTime": {
     "end_time": "2020-08-27T16:25:17.683843Z",
     "start_time": "2020-08-27T16:25:16.865032Z"
    }
   },
   "outputs": [],
   "source": [
    "# expand df.skills into its own dataframe\n",
    "skills = df_skills['skills'].apply(pd.Series)\n",
    "skills.loc[:, 18].value_counts()"
   ]
  },
  {
   "cell_type": "code",
   "execution_count": 33,
   "metadata": {
    "ExecuteTime": {
     "end_time": "2020-08-27T16:25:23.453006Z",
     "start_time": "2020-08-27T16:25:23.430042Z"
    }
   },
   "outputs": [],
   "source": [
    "f_name = '../data/stacked_job_with_pre_skills.pickle'\n",
    "with open(f_name, \"wb\") as f:\n",
    "    pickle.dump(df, f)"
   ]
  },
  {
   "cell_type": "code",
   "execution_count": null,
   "metadata": {},
   "outputs": [],
   "source": []
  }
 ],
 "metadata": {
  "kernelspec": {
   "display_name": "Python 3",
   "language": "python",
   "name": "python3"
  },
  "language_info": {
   "codemirror_mode": {
    "name": "ipython",
    "version": 3
   },
   "file_extension": ".py",
   "mimetype": "text/x-python",
   "name": "python",
   "nbconvert_exporter": "python",
   "pygments_lexer": "ipython3",
   "version": "3.6.10"
  },
  "toc": {
   "base_numbering": 1,
   "nav_menu": {},
   "number_sections": true,
   "sideBar": true,
   "skip_h1_title": false,
   "title_cell": "Table of Contents",
   "title_sidebar": "Contents",
   "toc_cell": false,
   "toc_position": {},
   "toc_section_display": true,
   "toc_window_display": false
  },
  "varInspector": {
   "cols": {
    "lenName": 16,
    "lenType": 16,
    "lenVar": 40
   },
   "kernels_config": {
    "python": {
     "delete_cmd_postfix": "",
     "delete_cmd_prefix": "del ",
     "library": "var_list.py",
     "varRefreshCmd": "print(var_dic_list())"
    },
    "r": {
     "delete_cmd_postfix": ") ",
     "delete_cmd_prefix": "rm(",
     "library": "var_list.r",
     "varRefreshCmd": "cat(var_dic_list()) "
    }
   },
   "types_to_exclude": [
    "module",
    "function",
    "builtin_function_or_method",
    "instance",
    "_Feature"
   ],
   "window_display": false
  }
 },
 "nbformat": 4,
 "nbformat_minor": 4
}
